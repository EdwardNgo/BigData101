{
 "cells": [
  {
   "cell_type": "code",
   "execution_count": 1,
   "id": "disabled-plumbing",
   "metadata": {},
   "outputs": [],
   "source": [
    "from pyspark.sql import SparkSession"
   ]
  },
  {
   "cell_type": "code",
   "execution_count": 2,
   "id": "careful-montgomery",
   "metadata": {},
   "outputs": [],
   "source": [
    "sc = SparkSession.builder.appName(\"Aggregate\").getOrCreate()"
   ]
  },
  {
   "cell_type": "code",
   "execution_count": 3,
   "id": "cutting-collector",
   "metadata": {},
   "outputs": [],
   "source": [
    "data_path = \"/home/viethoang/petproject/20202/BigData101/data/retail.csv\""
   ]
  },
  {
   "cell_type": "code",
   "execution_count": 5,
   "id": "secret-childhood",
   "metadata": {},
   "outputs": [
    {
     "name": "stdout",
     "output_type": "stream",
     "text": [
      "root\n",
      " |-- InvoiceNo: string (nullable = true)\n",
      " |-- StockCode: string (nullable = true)\n",
      " |-- Description: string (nullable = true)\n",
      " |-- Quantity: integer (nullable = true)\n",
      " |-- InvoiceDate: string (nullable = true)\n",
      " |-- UnitPrice: double (nullable = true)\n",
      " |-- CustomerID: double (nullable = true)\n",
      " |-- Country: string (nullable = true)\n",
      "\n",
      "+---------+---------+--------------------+--------+-------------------+---------+----------+--------------+\n",
      "|InvoiceNo|StockCode|         Description|Quantity|        InvoiceDate|UnitPrice|CustomerID|       Country|\n",
      "+---------+---------+--------------------+--------+-------------------+---------+----------+--------------+\n",
      "|   536365|   85123A|WHITE HANGING HEA...|       6|2010-12-01 08:26:00|     2.55|   17850.0|United Kingdom|\n",
      "|   536365|    71053| WHITE METAL LANTERN|       6|2010-12-01 08:26:00|     3.39|   17850.0|United Kingdom|\n",
      "|   536365|   84406B|CREAM CUPID HEART...|       8|2010-12-01 08:26:00|     2.75|   17850.0|United Kingdom|\n",
      "+---------+---------+--------------------+--------+-------------------+---------+----------+--------------+\n",
      "only showing top 3 rows\n",
      "\n"
     ]
    },
    {
     "data": {
      "text/plain": [
       "3108"
      ]
     },
     "execution_count": 5,
     "metadata": {},
     "output_type": "execute_result"
    }
   ],
   "source": [
    "df = sc.read.format('csv').option('header', True).option('inferSchema', True).load(data_path)\n",
    "df.printSchema()\n",
    "df.show(3)\n",
    "df.cache()  # cache is lazy operation, it does not cache data until use it\n",
    "df.count()  # since count is an action on all data, call this will cache all data on memory!!!"
   ]
  },
  {
   "cell_type": "markdown",
   "id": "assured-audio",
   "metadata": {},
   "source": [
    "### Dataframe Level Aggregation:\n",
    "   * count,count_distinct,approx_count_distinct\n",
    "   * min,max,sum,avg,...\n",
    "   * variance,standard devitation"
   ]
  },
  {
   "cell_type": "markdown",
   "id": "pending-relationship",
   "metadata": {},
   "source": [
    "### 2. GroupBy and Aggregate \n",
    "More common task is to perform calculation based on the groups in the data. This is usually a two stage process:\n",
    "\n",
    "* group by some keys: .groupBy(col_names, ...), support multiple comlumns\n",
    "* aggregate by some function .agg(func(col), ...), this can take multiple functions!\n",
    " * groupBy() return a GroupedData object which supports .agg() that can take aggregation functions on the data groups."
   ]
  },
  {
   "cell_type": "code",
   "execution_count": null,
   "id": "efficient-parameter",
   "metadata": {},
   "outputs": [],
   "source": []
  }
 ],
 "metadata": {
  "kernelspec": {
   "display_name": "bigdataenv",
   "language": "python",
   "name": "bigdataenv"
  },
  "language_info": {
   "codemirror_mode": {
    "name": "ipython",
    "version": 3
   },
   "file_extension": ".py",
   "mimetype": "text/x-python",
   "name": "python",
   "nbconvert_exporter": "python",
   "pygments_lexer": "ipython3",
   "version": "3.8.5"
  }
 },
 "nbformat": 4,
 "nbformat_minor": 5
}
