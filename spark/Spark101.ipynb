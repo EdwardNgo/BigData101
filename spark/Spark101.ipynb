{
 "cells": [
  {
   "cell_type": "markdown",
   "id": "applicable-rabbit",
   "metadata": {},
   "source": [
    "### SparkRDD"
   ]
  },
  {
   "cell_type": "code",
   "execution_count": 2,
   "id": "automotive-holly",
   "metadata": {},
   "outputs": [],
   "source": [
    "import findspark\n",
    "findspark.init()"
   ]
  },
  {
   "cell_type": "code",
   "execution_count": 4,
   "id": "level-abraham",
   "metadata": {},
   "outputs": [],
   "source": [
    "from pyspark.sql import SparkSession"
   ]
  },
  {
   "cell_type": "code",
   "execution_count": 5,
   "id": "grateful-maple",
   "metadata": {},
   "outputs": [],
   "source": [
    "spark = SparkSession.builder\\\n",
    "                    .master(\"local\")\\\n",
    "                    .appName('rddexample')\\\n",
    "                    .getOrCreate()\n",
    "sc=spark.sparkContext"
   ]
  },
  {
   "cell_type": "code",
   "execution_count": 6,
   "id": "piano-creation",
   "metadata": {},
   "outputs": [],
   "source": [
    "#Create RDD using sparkContext.parallelize()\n",
    "data = [1,2,3,4,5,6,7,8,9,10,11,12]\n",
    "rdd=spark.sparkContext.parallelize(data)"
   ]
  },
  {
   "cell_type": "code",
   "execution_count": 7,
   "id": "recognized-ozone",
   "metadata": {},
   "outputs": [],
   "source": [
    "#Create RDD from text file\n",
    "rdd2 = spark.sparkContext.textFile(\"test.txt\")\n",
    "#Create RDD as single record\n",
    "rdd3 = spark.sparkContext.wholeTextFiles(\"test.txt\") # key la ten file, value la noi dung"
   ]
  },
  {
   "cell_type": "code",
   "execution_count": 8,
   "id": "equipped-dance",
   "metadata": {},
   "outputs": [],
   "source": [
    "# Creates empty RDD with no partition    \n",
    "rdd = spark.sparkContext.emptyRDD \n",
    "rdd2 = spark.sparkContext.parallelize([],10) #This creates 10 partitions\n"
   ]
  },
  {
   "cell_type": "markdown",
   "id": "herbal-palestine",
   "metadata": {},
   "source": [
    "### Pyspark RDD operations"
   ]
  },
  {
   "cell_type": "markdown",
   "id": "european-tournament",
   "metadata": {},
   "source": [
    "#### RDD Transformations with example\n"
   ]
  },
  {
   "cell_type": "code",
   "execution_count": 9,
   "id": "emerging-evans",
   "metadata": {},
   "outputs": [],
   "source": [
    "tf = spark.sparkContext.textFile(\"test.txt\")\n",
    "t = tf.flatMap(lambda x: x.split(\" \")).map(lambda x : (x,1)).reduceByKey(lambda a,b: a+b)"
   ]
  },
  {
   "cell_type": "markdown",
   "id": "assigned-acting",
   "metadata": {},
   "source": [
    "#### RDD Actions"
   ]
  },
  {
   "cell_type": "code",
   "execution_count": 10,
   "id": "suitable-cancellation",
   "metadata": {},
   "outputs": [
    {
     "name": "stdout",
     "output_type": "stream",
     "text": [
      "Count : 16\n"
     ]
    }
   ],
   "source": [
    "print(\"Count : \"+str(t.count()))"
   ]
  },
  {
   "cell_type": "code",
   "execution_count": 11,
   "id": "timely-newark",
   "metadata": {},
   "outputs": [
    {
     "name": "stdout",
     "output_type": "stream",
     "text": [
      "First Record : toi,1\n"
     ]
    }
   ],
   "source": [
    "firstRec = t.first()\n",
    "print(\"First Record : \"+str(firstRec[0]) + \",\"+ str(firstRec[1]))"
   ]
  },
  {
   "cell_type": "code",
   "execution_count": 12,
   "id": "personal-moment",
   "metadata": {},
   "outputs": [
    {
     "name": "stdout",
     "output_type": "stream",
     "text": [
      "Max Record : yeu,1\n"
     ]
    }
   ],
   "source": [
    "datMax = t.max()\n",
    "print(\"Max Record : \"+str(datMax[0]) + \",\"+ str(datMax[1]))\n"
   ]
  },
  {
   "cell_type": "markdown",
   "id": "hidden-austin",
   "metadata": {},
   "source": [
    "### Spark DataFrame"
   ]
  },
  {
   "cell_type": "code",
   "execution_count": 13,
   "id": "happy-netherlands",
   "metadata": {},
   "outputs": [],
   "source": [
    "data = [('James','','Smith','1991-04-01','M',3000),\n",
    "  ('Michael','Rose','','2000-05-19','M',4000),\n",
    "  ('Robert','','Williams','1978-09-05','M',4000),\n",
    "  ('Maria','Anne','Jones','1967-12-01','F',4000),\n",
    "  ('Jen','Mary','Brown','1980-02-17','F',-1)\n",
    "]\n",
    "\n",
    "columns = [\"firstname\",\"middlename\",\"lastname\",\"dob\",\"gender\",\"salary\"]\n",
    "df = spark.createDataFrame(data=data, schema = columns)"
   ]
  },
  {
   "cell_type": "code",
   "execution_count": 15,
   "id": "stupid-disabled",
   "metadata": {},
   "outputs": [
    {
     "name": "stdout",
     "output_type": "stream",
     "text": [
      "+---------+----------+--------+----------+------+------+\n",
      "|firstname|middlename|lastname|       dob|gender|salary|\n",
      "+---------+----------+--------+----------+------+------+\n",
      "|    James|          |   Smith|1991-04-01|     M|  3000|\n",
      "|  Michael|      Rose|        |2000-05-19|     M|  4000|\n",
      "|   Robert|          |Williams|1978-09-05|     M|  4000|\n",
      "|    Maria|      Anne|   Jones|1967-12-01|     F|  4000|\n",
      "|      Jen|      Mary|   Brown|1980-02-17|     F|    -1|\n",
      "+---------+----------+--------+----------+------+------+\n",
      "\n"
     ]
    }
   ],
   "source": [
    "df.show()"
   ]
  }
 ],
 "metadata": {
  "kernelspec": {
   "display_name": "bigdataenv",
   "language": "python",
   "name": "bigdataenv"
  },
  "language_info": {
   "codemirror_mode": {
    "name": "ipython",
    "version": 3
   },
   "file_extension": ".py",
   "mimetype": "text/x-python",
   "name": "python",
   "nbconvert_exporter": "python",
   "pygments_lexer": "ipython3",
   "version": "3.8.5"
  }
 },
 "nbformat": 4,
 "nbformat_minor": 5
}
