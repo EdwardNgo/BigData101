{
 "cells": [
  {
   "cell_type": "code",
   "execution_count": 1,
   "id": "middle-delay",
   "metadata": {},
   "outputs": [],
   "source": [
    "# To find out path where pyspark installed\n",
    "import findspark\n",
    "findspark.init()"
   ]
  },
  {
   "cell_type": "code",
   "execution_count": 2,
   "id": "sought-discrimination",
   "metadata": {},
   "outputs": [],
   "source": [
    "# Create SparkSession and sparkcontext\n",
    "from pyspark.sql import SparkSession\n",
    "spark = SparkSession.builder\\\n",
    "                    .master(\"local\")\\\n",
    "                    .appName('Firstprogram')\\\n",
    "                    .getOrCreate()\n",
    "sc=spark.sparkContext"
   ]
  },
  {
   "cell_type": "code",
   "execution_count": 12,
   "id": "japanese-winner",
   "metadata": {},
   "outputs": [],
   "source": [
    "# Read the input file and Calculating words count\n",
    "text_file = sc.textFile(\"test.txt\")\n",
    "counts = text_file.flatMap(lambda line: line.split(\" \")) \\\n",
    "                            .map(lambda word: (word, 1)) \\\n",
    "                            .reduceByKey(lambda x,y:x+y)\n"
   ]
  },
  {
   "cell_type": "code",
   "execution_count": 5,
   "id": "simplified-yeast",
   "metadata": {},
   "outputs": [
    {
     "data": {
      "text/plain": [
       "test.txt MapPartitionsRDD[1] at textFile at NativeMethodAccessorImpl.java:0"
      ]
     },
     "execution_count": 5,
     "metadata": {},
     "output_type": "execute_result"
    }
   ],
   "source": [
    "text_file"
   ]
  },
  {
   "cell_type": "code",
   "execution_count": 13,
   "id": "rough-gasoline",
   "metadata": {},
   "outputs": [
    {
     "name": "stdout",
     "output_type": "stream",
     "text": [
      "toi: 1\n",
      "nhu: 1\n",
      "con: 1\n",
      "kien: 1\n",
      "trong: 1\n",
      "thu: 1\n",
      "do: 1\n",
      "voi: 1\n",
      "vang: 1\n",
      "mot: 2\n",
      "nghin: 2\n",
      "nam: 2\n",
      "van: 1\n",
      "vo: 1\n",
      "yeu: 1\n",
      "nang: 1\n"
     ]
    }
   ],
   "source": [
    "output = counts.collect()\n",
    "for (word, count) in output:\n",
    "    print(\"%s: %i\" % (word, count))"
   ]
  }
 ],
 "metadata": {
  "kernelspec": {
   "display_name": "bigdataenv",
   "language": "python",
   "name": "bigdataenv"
  },
  "language_info": {
   "codemirror_mode": {
    "name": "ipython",
    "version": 3
   },
   "file_extension": ".py",
   "mimetype": "text/x-python",
   "name": "python",
   "nbconvert_exporter": "python",
   "pygments_lexer": "ipython3",
   "version": "3.8.5"
  }
 },
 "nbformat": 4,
 "nbformat_minor": 5
}
