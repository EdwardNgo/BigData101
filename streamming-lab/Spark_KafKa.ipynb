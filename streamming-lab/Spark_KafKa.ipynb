{
 "cells": [
  {
   "cell_type": "code",
   "execution_count": 1,
   "id": "offshore-ambassador",
   "metadata": {},
   "outputs": [],
   "source": [
    "import os \n",
    "# kafka = \"org.apache.spark:spark-sql-kafka-0-10_2.12:3.0.1\"\n",
    "# spark_k = \"org.apache.spark:spark-streaming-kafka-0-8_2.11:2.1.0\"\n",
    "kafka_spark = \"org.apache.spark:spark-sql-kafka-0-10_2.12:3.1.2\"\n",
    "os.environ[\"PYSPARK_SUBMIT_ARGS\"] = (\"--packages {}  pyspark-shell\".format(kafka_spark))"
   ]
  },
  {
   "cell_type": "code",
   "execution_count": 2,
   "id": "conditional-recorder",
   "metadata": {},
   "outputs": [],
   "source": [
    "from pyspark.context import SparkContext\n",
    "from pyspark.sql.session import SparkSession\n",
    "from functools import reduce\n",
    "from pyspark.sql import DataFrame\n",
    "from pyspark.sql.functions import *\n",
    "from pyspark.sql.types import *"
   ]
  },
  {
   "cell_type": "code",
   "execution_count": 3,
   "id": "metric-daniel",
   "metadata": {},
   "outputs": [],
   "source": [
    "KAFKA_BROKER = \"localhost:9092\"\n",
    "KAFKA_TOPIC = \"sample\"\n",
    "\n",
    "sc = SparkContext('local')\n",
    "spark = SparkSession(sc)\n",
    "# spark = SparkSession.builder.master(\"local\").appName(\"hi\").getOrCreate()"
   ]
  },
  {
   "cell_type": "code",
   "execution_count": 4,
   "id": "expensive-magnet",
   "metadata": {},
   "outputs": [
    {
     "data": {
      "text/html": [
       "\n",
       "            <div>\n",
       "                <p><b>SparkSession - in-memory</b></p>\n",
       "                \n",
       "        <div>\n",
       "            <p><b>SparkContext</b></p>\n",
       "\n",
       "            <p><a href=\"http://192.168.16.109:4040\">Spark UI</a></p>\n",
       "\n",
       "            <dl>\n",
       "              <dt>Version</dt>\n",
       "                <dd><code>v3.1.1</code></dd>\n",
       "              <dt>Master</dt>\n",
       "                <dd><code>local</code></dd>\n",
       "              <dt>AppName</dt>\n",
       "                <dd><code>pyspark-shell</code></dd>\n",
       "            </dl>\n",
       "        </div>\n",
       "        \n",
       "            </div>\n",
       "        "
      ],
      "text/plain": [
       "<pyspark.sql.session.SparkSession at 0x7f0ba6972b20>"
      ]
     },
     "execution_count": 4,
     "metadata": {},
     "output_type": "execute_result"
    }
   ],
   "source": [
    "spark"
   ]
  },
  {
   "cell_type": "markdown",
   "id": "received-network",
   "metadata": {},
   "source": [
    "## Process data from kafka to dataframe by spark"
   ]
  },
  {
   "cell_type": "code",
   "execution_count": 53,
   "id": "aerial-prevention",
   "metadata": {},
   "outputs": [],
   "source": [
    "df = spark.readStream.\\\n",
    "        format(\"kafka\").\\\n",
    "        option(\"kafka.bootstrap.servers\",KAFKA_BROKER).\\\n",
    "        option(\"subscribe\",KAFKA_TOPIC).\\\n",
    "        load()\n"
   ]
  },
  {
   "cell_type": "code",
   "execution_count": 54,
   "id": "religious-dominican",
   "metadata": {},
   "outputs": [],
   "source": [
    "message = df.selectExpr(\"CAST(value as string)\")"
   ]
  },
  {
   "cell_type": "code",
   "execution_count": null,
   "id": "amino-enterprise",
   "metadata": {},
   "outputs": [],
   "source": []
  },
  {
   "cell_type": "code",
   "execution_count": 57,
   "id": "constant-account",
   "metadata": {},
   "outputs": [],
   "source": [
    "rawmessage = message.writeStream.queryName(\"test3\").format(\"memory\").start()"
   ]
  },
  {
   "cell_type": "code",
   "execution_count": 58,
   "id": "biological-complaint",
   "metadata": {},
   "outputs": [
    {
     "data": {
      "text/plain": [
       "{'message': 'Waiting for data to arrive',\n",
       " 'isDataAvailable': False,\n",
       " 'isTriggerActive': False}"
      ]
     },
     "execution_count": 58,
     "metadata": {},
     "output_type": "execute_result"
    }
   ],
   "source": [
    "rawmessage.status"
   ]
  },
  {
   "cell_type": "markdown",
   "id": "functioning-samoa",
   "metadata": {},
   "source": [
    "## Write data to hdfs"
   ]
  },
  {
   "cell_type": "code",
   "execution_count": null,
   "id": "russian-crack",
   "metadata": {},
   "outputs": [],
   "source": [
    "fileStream = message.writeStream.\\\n",
    "                    queryName(\"Persist processed data 2\").\\\n",
    "                    format(\"parquet\").\\\n",
    "                    outputMode(\"append\").\\\n",
    "                    option(\"path\", \"hdfs://localhost:9000/test/viethoan\").\\\n",
    "                    option(\"checkpointLocation\", \"hdfs://localhost:9000/test/viethoan/checkpoint\").\\\n",
    "                    start().\\\n",
    "                    awaitTermination()\n"
   ]
  },
  {
   "cell_type": "code",
   "execution_count": null,
   "id": "local-skiing",
   "metadata": {},
   "outputs": [],
   "source": []
  }
 ],
 "metadata": {
  "kernelspec": {
   "display_name": "bigdataenv",
   "language": "python",
   "name": "bigdataenv"
  },
  "language_info": {
   "codemirror_mode": {
    "name": "ipython",
    "version": 3
   },
   "file_extension": ".py",
   "mimetype": "text/x-python",
   "name": "python",
   "nbconvert_exporter": "python",
   "pygments_lexer": "ipython3",
   "version": "3.8.5"
  }
 },
 "nbformat": 4,
 "nbformat_minor": 5
}
