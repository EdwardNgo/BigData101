{
 "cells": [
  {
   "cell_type": "code",
   "execution_count": 16,
   "id": "fantastic-input",
   "metadata": {},
   "outputs": [],
   "source": [
    "from pyspark.sql import SparkSession\n",
    "from pyspark.sql.functions import *\n",
    "from pyspark.sql.types import *"
   ]
  },
  {
   "cell_type": "code",
   "execution_count": 18,
   "id": "recreational-flesh",
   "metadata": {},
   "outputs": [],
   "source": [
    "spark = SparkSession\\\n",
    "            .builder\\\n",
    "            .master(\"local\")\\\n",
    "            .appName(\"Structured_Streamming\")\\\n",
    "            .config(\"spark.sql.streaming.schemaInference\", True)\\\n",
    "            .getOrCreate()"
   ]
  },
  {
   "cell_type": "code",
   "execution_count": 19,
   "id": "hindu-comment",
   "metadata": {},
   "outputs": [
    {
     "data": {
      "text/html": [
       "\n",
       "            <div>\n",
       "                <p><b>SparkSession - in-memory</b></p>\n",
       "                \n",
       "        <div>\n",
       "            <p><b>SparkContext</b></p>\n",
       "\n",
       "            <p><a href=\"http://192.168.16.109:4040\">Spark UI</a></p>\n",
       "\n",
       "            <dl>\n",
       "              <dt>Version</dt>\n",
       "                <dd><code>v3.1.1</code></dd>\n",
       "              <dt>Master</dt>\n",
       "                <dd><code>local</code></dd>\n",
       "              <dt>AppName</dt>\n",
       "                <dd><code>Structured_Streamming</code></dd>\n",
       "            </dl>\n",
       "        </div>\n",
       "        \n",
       "            </div>\n",
       "        "
      ],
      "text/plain": [
       "<pyspark.sql.session.SparkSession at 0x7f75a9c1c640>"
      ]
     },
     "execution_count": 19,
     "metadata": {},
     "output_type": "execute_result"
    }
   ],
   "source": [
    "spark"
   ]
  },
  {
   "cell_type": "markdown",
   "id": "equal-eagle",
   "metadata": {},
   "source": [
    "### Static version"
   ]
  },
  {
   "cell_type": "code",
   "execution_count": 20,
   "id": "pharmaceutical-price",
   "metadata": {},
   "outputs": [],
   "source": [
    "static = spark.read.json(\"../data/activity-data/\")"
   ]
  },
  {
   "cell_type": "code",
   "execution_count": 21,
   "id": "consecutive-cradle",
   "metadata": {},
   "outputs": [
    {
     "name": "stdout",
     "output_type": "stream",
     "text": [
      "root\n",
      " |-- Arrival_Time: long (nullable = true)\n",
      " |-- Creation_Time: long (nullable = true)\n",
      " |-- Device: string (nullable = true)\n",
      " |-- Index: long (nullable = true)\n",
      " |-- Model: string (nullable = true)\n",
      " |-- User: string (nullable = true)\n",
      " |-- gt: string (nullable = true)\n",
      " |-- x: double (nullable = true)\n",
      " |-- y: double (nullable = true)\n",
      " |-- z: double (nullable = true)\n",
      "\n"
     ]
    }
   ],
   "source": [
    "static.printSchema()"
   ]
  },
  {
   "cell_type": "code",
   "execution_count": 22,
   "id": "intense-nursing",
   "metadata": {},
   "outputs": [
    {
     "name": "stdout",
     "output_type": "stream",
     "text": [
      "+-------------+-------------------+--------+-----+------+----+-----+-------------+------------+------------+\n",
      "| Arrival_Time|      Creation_Time|  Device|Index| Model|User|   gt|            x|           y|           z|\n",
      "+-------------+-------------------+--------+-----+------+----+-----+-------------+------------+------------+\n",
      "|1424686735090|1424686733090638193|nexus4_1|   18|nexus4|   g|stand|  3.356934E-4|-5.645752E-4|-0.018814087|\n",
      "|1424686735292|1424688581345918092|nexus4_2|   66|nexus4|   g|stand| -0.005722046| 0.029083252| 0.005569458|\n",
      "|1424686735500|1424686733498505625|nexus4_1|   99|nexus4|   g|stand|    0.0078125|-0.017654419| 0.010025024|\n",
      "|1424686735691|1424688581745026978|nexus4_2|  145|nexus4|   g|stand| -3.814697E-4|   0.0184021|-0.013656616|\n",
      "|1424686735890|1424688581945252808|nexus4_2|  185|nexus4|   g|stand| -3.814697E-4|-0.031799316| -0.00831604|\n",
      "|1424686736094|1424686734097840342|nexus4_1|  218|nexus4|   g|stand| -7.324219E-4|-0.013381958|  0.01109314|\n",
      "|1424686736294|1424688582347932252|nexus4_2|  265|nexus4|   g|stand| -0.005722046| 0.015197754| 0.022659302|\n",
      "|1424686736495|1424688582549592408|nexus4_2|  305|nexus4|   g|stand| -3.814697E-4|0.0087890625|0.0034332275|\n",
      "|1424686736697|1424688582750703248|nexus4_2|  345|nexus4|   g|stand|  0.002822876|-0.008300781|-0.015792847|\n",
      "|1424686736898|1424688582952241334|nexus4_2|  385|nexus4|   g|stand|  6.866455E-4|-0.008300781| 0.004501343|\n",
      "|1424686737100|1424686735109928643|nexus4_1|  418|nexus4|   g|stand|  0.003540039|-0.010177612|-0.026290894|\n",
      "|1424686737300|1424688583355164918|nexus4_2|  465|nexus4|   g|stand|  0.002822876|0.0045166016|-0.014724731|\n",
      "|1424686737505|1424686735512935017|nexus4_1|  498|nexus4|   g|stand| 0.0024719238|-0.010177612|-0.017745972|\n",
      "|1424686737707|1424686735709254597|nexus4_1|  537|nexus4|   g|stand|-0.0028686523|-0.003768921| 0.020706177|\n",
      "|1424686737908|1424686735915675495|nexus4_1|  578|nexus4|   g|stand|-0.0028686523| 0.026138306| 0.007888794|\n",
      "|1424686738109|1424688584160372793|nexus4_2|  625|nexus4|   g|stand| -3.814697E-4| 2.441406E-4| 0.033340454|\n",
      "|1424686738326|1424688584381747305|nexus4_2|  661|nexus4|   g|stand| 0.0017547607| 0.019470215|-0.011520386|\n",
      "|1424686738529|1424686736534938191|nexus4_1|  701|nexus4|   g|stand| 0.0024719238|-0.033676147|0.0068206787|\n",
      "|1424686738744|1424688584799723655|nexus4_2|  744|nexus4|   g|stand| -3.814697E-4|-0.002960205|-0.027542114|\n",
      "|1424686738935|1424686736943477009|nexus4_1|  782|nexus4|   g|stand| -0.009277344|-0.009109497|  -0.0690155|\n",
      "+-------------+-------------------+--------+-----+------+----+-----+-------------+------------+------------+\n",
      "only showing top 20 rows\n",
      "\n"
     ]
    }
   ],
   "source": [
    "static.show()"
   ]
  },
  {
   "cell_type": "markdown",
   "id": "supported-healing",
   "metadata": {},
   "source": [
    "### Streamming version"
   ]
  },
  {
   "cell_type": "code",
   "execution_count": 25,
   "id": "retired-salon",
   "metadata": {},
   "outputs": [],
   "source": [
    "#Spark streamming need to enable the Schema\n",
    "#Do this by configure or read from valid file to get the schema\n",
    "streaming = spark.readStream\\\n",
    "                .option(\"maxFilesPerTrigger\", 1)\\\n",
    "                .json(\"../data/activity-data\")"
   ]
  },
  {
   "cell_type": "code",
   "execution_count": 32,
   "id": "earlier-quarter",
   "metadata": {},
   "outputs": [],
   "source": [
    "#Set up transformation\n",
    "activityCounts = streaming.groupBy(\"gt\").count()"
   ]
  },
  {
   "cell_type": "code",
   "execution_count": 33,
   "id": "overhead-anniversary",
   "metadata": {},
   "outputs": [],
   "source": [
    "spark.conf.set(\"spark.sql.shuffle.partitions\", 5)"
   ]
  },
  {
   "cell_type": "code",
   "execution_count": 34,
   "id": "international-employment",
   "metadata": {},
   "outputs": [],
   "source": [
    "#action to start query use memory as sink\n",
    "activityQuery = activityCounts.writeStream.queryName(\"activity_counts\")\\\n",
    "                .format(\"memory\")\\\n",
    "                .outputMode(\"complete\")\\\n",
    "                .start()"
   ]
  },
  {
   "cell_type": "code",
   "execution_count": 43,
   "id": "northern-ferry",
   "metadata": {},
   "outputs": [],
   "source": [
    "# activityQuery.awaitTermination()"
   ]
  },
  {
   "cell_type": "code",
   "execution_count": 42,
   "id": "contrary-government",
   "metadata": {},
   "outputs": [
    {
     "name": "stdout",
     "output_type": "stream",
     "text": [
      "+----------+-------+\n",
      "|        gt|  count|\n",
      "+----------+-------+\n",
      "|       sit| 984714|\n",
      "|     stand| 910783|\n",
      "|stairsdown| 749059|\n",
      "|      walk|1060402|\n",
      "|  stairsup| 836598|\n",
      "|      null| 835725|\n",
      "|      bike| 863710|\n",
      "+----------+-------+\n",
      "\n",
      "+----------+-------+\n",
      "|        gt|  count|\n",
      "+----------+-------+\n",
      "|       sit| 984714|\n",
      "|     stand| 910783|\n",
      "|stairsdown| 749059|\n",
      "|      walk|1060402|\n",
      "|  stairsup| 836598|\n",
      "|      null| 835725|\n",
      "|      bike| 863710|\n",
      "+----------+-------+\n",
      "\n",
      "+----------+-------+\n",
      "|        gt|  count|\n",
      "+----------+-------+\n",
      "|       sit| 984714|\n",
      "|     stand| 910783|\n",
      "|stairsdown| 749059|\n",
      "|      walk|1060402|\n",
      "|  stairsup| 836598|\n",
      "|      null| 835725|\n",
      "|      bike| 863710|\n",
      "+----------+-------+\n",
      "\n",
      "+----------+-------+\n",
      "|        gt|  count|\n",
      "+----------+-------+\n",
      "|       sit| 984714|\n",
      "|     stand| 910783|\n",
      "|stairsdown| 749059|\n",
      "|      walk|1060402|\n",
      "|  stairsup| 836598|\n",
      "|      null| 835725|\n",
      "|      bike| 863710|\n",
      "+----------+-------+\n",
      "\n",
      "+----------+-------+\n",
      "|        gt|  count|\n",
      "+----------+-------+\n",
      "|       sit| 984714|\n",
      "|     stand| 910783|\n",
      "|stairsdown| 749059|\n",
      "|      walk|1060402|\n",
      "|  stairsup| 836598|\n",
      "|      null| 835725|\n",
      "|      bike| 863710|\n",
      "+----------+-------+\n",
      "\n"
     ]
    }
   ],
   "source": [
    "from time import sleep\n",
    "#sql from the stream we write in memory\n",
    "for x in range(5):\n",
    "    spark.sql(\"SELECT * FROM activity_counts\").show()\n",
    "    sleep(1)"
   ]
  },
  {
   "cell_type": "markdown",
   "id": "convinced-poker",
   "metadata": {},
   "source": [
    "### Transformation on stream"
   ]
  },
  {
   "cell_type": "code",
   "execution_count": 44,
   "id": "touched-fiber",
   "metadata": {},
   "outputs": [],
   "source": [
    "from pyspark.sql.functions import expr\n",
    "#Selection and filter\n",
    "simpleTransform = streaming.withColumn(\"stairs\", expr(\"gt like '%stairs%'\"))\\\n",
    "                .where(\"stairs\")\\\n",
    "                .where(\"gt is not null\")\\\n",
    "                .select(\"gt\", \"model\", \"arrival_time\", \"creation_time\")\\\n",
    "                .writeStream\\\n",
    "                .queryName(\"simple_transform\")\\\n",
    "                .format(\"memory\")\\\n",
    "                .outputMode(\"append\")\\\n",
    "                .start()"
   ]
  },
  {
   "cell_type": "code",
   "execution_count": 47,
   "id": "sealed-american",
   "metadata": {},
   "outputs": [],
   "source": [
    "# spark.sql(\"SELECT * FROM simple_transform\").show()"
   ]
  },
  {
   "cell_type": "code",
   "execution_count": 49,
   "id": "uniform-egypt",
   "metadata": {},
   "outputs": [],
   "source": [
    "# Aggregate\n",
    "deviceModelStats = streaming.cube(\"gt\", \"model\").avg()\\\n",
    "                    .drop(\"avg(Arrival_time)\")\\\n",
    "                    .drop(\"avg(Creation_Time)\")\\\n",
    "                    .drop(\"avg(Index)\")\\\n",
    "                    .writeStream.queryName(\"device_counts\").format(\"memory\")\\\n",
    "                    .outputMode(\"complete\")\\\n",
    "                    .start()"
   ]
  },
  {
   "cell_type": "code",
   "execution_count": 54,
   "id": "metropolitan-calibration",
   "metadata": {},
   "outputs": [
    {
     "name": "stdout",
     "output_type": "stream",
     "text": [
      "+---+-----+------+------+------+\n",
      "| gt|model|avg(x)|avg(y)|avg(z)|\n",
      "+---+-----+------+------+------+\n",
      "+---+-----+------+------+------+\n",
      "\n"
     ]
    }
   ],
   "source": [
    "spark.sql(\"SELECT * FROM device_counts\").show()"
   ]
  },
  {
   "cell_type": "code",
   "execution_count": 55,
   "id": "genuine-projection",
   "metadata": {},
   "outputs": [],
   "source": [
    "#Join\n",
    "historicalAgg = static.groupBy(\"gt\", \"model\").avg()\n",
    "deviceModelStats = streaming.drop(\"Arrival_Time\", \"Creation_Time\", \"Index\")\\\n",
    "                            .cube(\"gt\", \"model\").avg()\\\n",
    "                            .join(historicalAgg, [\"gt\", \"model\"])\\\n",
    "                            .writeStream.queryName(\"device_counts\").format(\"memory\")\\\n",
    "                            .outputMode(\"complete\")\\\n",
    "                            .start()"
   ]
  },
  {
   "cell_type": "code",
   "execution_count": 56,
   "id": "young-chancellor",
   "metadata": {},
   "outputs": [
    {
     "name": "stdout",
     "output_type": "stream",
     "text": [
      "+---+-----+------+------+------+-----------------+------------------+----------+------+------+------+\n",
      "| gt|model|avg(x)|avg(y)|avg(z)|avg(Arrival_Time)|avg(Creation_Time)|avg(Index)|avg(x)|avg(y)|avg(z)|\n",
      "+---+-----+------+------+------+-----------------+------------------+----------+------+------+------+\n",
      "+---+-----+------+------+------+-----------------+------------------+----------+------+------+------+\n",
      "\n"
     ]
    }
   ],
   "source": [
    "spark.sql(\"SELECT * FROM device_counts\").show()"
   ]
  }
 ],
 "metadata": {
  "kernelspec": {
   "display_name": "bigdataenv",
   "language": "python",
   "name": "bigdataenv"
  },
  "language_info": {
   "codemirror_mode": {
    "name": "ipython",
    "version": 3
   },
   "file_extension": ".py",
   "mimetype": "text/x-python",
   "name": "python",
   "nbconvert_exporter": "python",
   "pygments_lexer": "ipython3",
   "version": "3.8.5"
  }
 },
 "nbformat": 4,
 "nbformat_minor": 5
}
