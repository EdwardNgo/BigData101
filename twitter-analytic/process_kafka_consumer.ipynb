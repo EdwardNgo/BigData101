{
 "cells": [
  {
   "cell_type": "code",
   "execution_count": 40,
   "id": "approximate-october",
   "metadata": {},
   "outputs": [],
   "source": [
    "from pyspark.sql import SparkSession\n",
    "from pyspark.sql.types import *\n",
    "from pyspark.sql.functions import *"
   ]
  },
  {
   "cell_type": "code",
   "execution_count": 41,
   "id": "behavioral-purchase",
   "metadata": {},
   "outputs": [],
   "source": [
    "import os \n",
    "# kafka = \"org.apache.spark:spark-sql-kafka-0-10_2.12:3.0.1\"\n",
    "# spark_k = \"org.apache.spark:spark-streaming-kafka-0-8_2.11:2.1.0\"\n",
    "kafka_spark = \"org.apache.spark:spark-sql-kafka-0-10_2.12:3.1.2\"\n",
    "os.environ[\"PYSPARK_SUBMIT_ARGS\"] = (\"--packages {}  pyspark-shell\".format(kafka_spark))"
   ]
  },
  {
   "cell_type": "code",
   "execution_count": 42,
   "id": "injured-segment",
   "metadata": {},
   "outputs": [],
   "source": [
    "spark = SparkSession.builder.master(\"local\").appName(\"process-tweet\").getOrCreate()"
   ]
  },
  {
   "cell_type": "code",
   "execution_count": 43,
   "id": "polyphonic-tamil",
   "metadata": {},
   "outputs": [
    {
     "data": {
      "text/html": [
       "\n",
       "            <div>\n",
       "                <p><b>SparkSession - in-memory</b></p>\n",
       "                \n",
       "        <div>\n",
       "            <p><b>SparkContext</b></p>\n",
       "\n",
       "            <p><a href=\"http://192.168.1.11:4040\">Spark UI</a></p>\n",
       "\n",
       "            <dl>\n",
       "              <dt>Version</dt>\n",
       "                <dd><code>v3.1.1</code></dd>\n",
       "              <dt>Master</dt>\n",
       "                <dd><code>local</code></dd>\n",
       "              <dt>AppName</dt>\n",
       "                <dd><code>process-tweet</code></dd>\n",
       "            </dl>\n",
       "        </div>\n",
       "        \n",
       "            </div>\n",
       "        "
      ],
      "text/plain": [
       "<pyspark.sql.session.SparkSession at 0x7f61aa683ca0>"
      ]
     },
     "execution_count": 43,
     "metadata": {},
     "output_type": "execute_result"
    }
   ],
   "source": [
    "spark"
   ]
  },
  {
   "cell_type": "code",
   "execution_count": 44,
   "id": "operating-hebrew",
   "metadata": {},
   "outputs": [],
   "source": [
    "KAFKA_BROKER = \"localhost:9092\"\n",
    "KAFKA_TOPIC = \"twitter-sentiment\"\n"
   ]
  },
  {
   "cell_type": "code",
   "execution_count": 45,
   "id": "mathematical-jason",
   "metadata": {},
   "outputs": [],
   "source": [
    "df = spark.readStream.\\\n",
    "        format(\"kafka\").\\\n",
    "        option(\"kafka.bootstrap.servers\",KAFKA_BROKER).\\\n",
    "        option(\"subscribe\",KAFKA_TOPIC).\\\n",
    "        option(\"startingOffsets\",\"earliest\").\\\n",
    "        load()"
   ]
  },
  {
   "cell_type": "code",
   "execution_count": 46,
   "id": "british-maryland",
   "metadata": {},
   "outputs": [],
   "source": [
    "tweet = df.selectExpr(\"CAST(value as string)\")"
   ]
  },
  {
   "cell_type": "code",
   "execution_count": 47,
   "id": "common-publisher",
   "metadata": {},
   "outputs": [
    {
     "data": {
      "text/plain": [
       "<pyspark.sql.streaming.StreamingQuery at 0x7f61aa6d20d0>"
      ]
     },
     "execution_count": 47,
     "metadata": {},
     "output_type": "execute_result"
    }
   ],
   "source": [
    "tweet.writeStream.outputMode(\"append\").format(\"console\").start()\n"
   ]
  },
  {
   "cell_type": "code",
   "execution_count": 48,
   "id": "alpine-synthesis",
   "metadata": {},
   "outputs": [],
   "source": [
    "#filter all hashtag in each tweet by timestamp\n",
    "processed_tweet = df.selectExpr(\"CAST(value as string) AS value\").\\\n",
    "                    select(from_json(\"value\",\"id STRING,time STRING,text STRING,sentiment_score STRING\").alias(\"x\")).\\\n",
    "                    selectExpr(\"CAST(from_unixtime(x.time,'HH:mm:ss') as TIMESTAMP) AS time\",\"explode(split(lower(x.text),' ')) as hashtag\").\\\n",
    "                    where(\"length(hashtag) > 1\").\\\n",
    "                    where(\"substring(hashtag,1,1) = '#'\").\\\n",
    "                    selectExpr(\"(time,hashtag) as result\").\\\n",
    "                    select(to_json(\"result\").alias(\"value\"))"
   ]
  },
  {
   "cell_type": "code",
   "execution_count": 53,
   "id": "third-quantity",
   "metadata": {},
   "outputs": [],
   "source": [
    "processed_tweet_2 = df.selectExpr(\"CAST(value as string) AS value\").\\\n",
    "                    select(from_json(\"value\",\"id STRING,time STRING,text STRING,sentiment_score STRING\").alias(\"x\"))\n"
   ]
  },
  {
   "cell_type": "code",
   "execution_count": 49,
   "id": "hundred-lease",
   "metadata": {},
   "outputs": [],
   "source": [
    "#count hashtag appears in a range of timestamp\n",
    "processed_tweet_wdtime = processed_tweet.\\\n",
    "                        select(from_json(\"value\",\"time STRING,hashtag STRING\").alias(\"x\")).\\\n",
    "                        selectExpr(\"x.time as time\",\"x.hashtag as hashtag\").\\\n",
    "                        groupBy(\"hashtag\",window(\"time\",windowDuration = \"60 seconds\")).agg(count(\"hashtag\").alias(\"count\"))\n",
    "                                        "
   ]
  },
  {
   "cell_type": "code",
   "execution_count": 50,
   "id": "tutorial-karma",
   "metadata": {},
   "outputs": [
    {
     "data": {
      "text/plain": [
       "<pyspark.sql.streaming.StreamingQuery at 0x7f61aa6deca0>"
      ]
     },
     "execution_count": 50,
     "metadata": {},
     "output_type": "execute_result"
    }
   ],
   "source": [
    "processed_tweet.writeStream.\\\n",
    "                outputMode(\"append\").\\\n",
    "                format(\"console\").\\\n",
    "                option(\"truncate\",\"false\").\\\n",
    "                start()"
   ]
  },
  {
   "cell_type": "code",
   "execution_count": 51,
   "id": "homeless-practice",
   "metadata": {},
   "outputs": [
    {
     "data": {
      "text/plain": [
       "<pyspark.sql.streaming.StreamingQuery at 0x7f61aa6de070>"
      ]
     },
     "execution_count": 51,
     "metadata": {},
     "output_type": "execute_result"
    }
   ],
   "source": [
    "processed_tweet_wdtime.writeStream.\\\n",
    "                outputMode(\"update\").\\\n",
    "                format(\"console\").\\\n",
    "                option(\"truncate\",\"false\").\\\n",
    "                start()"
   ]
  },
  {
   "cell_type": "code",
   "execution_count": 55,
   "id": "coordinated-delicious",
   "metadata": {},
   "outputs": [
    {
     "data": {
      "text/plain": [
       "<pyspark.sql.streaming.StreamingQuery at 0x7f61aa6f95e0>"
      ]
     },
     "execution_count": 55,
     "metadata": {},
     "output_type": "execute_result"
    }
   ],
   "source": [
    "processed_tweet_2.writeStream.\\\n",
    "                outputMode(\"update\").\\\n",
    "                format(\"console\").\\\n",
    "                option(\"truncate\",\"false\").\\\n",
    "                start()"
   ]
  },
  {
   "cell_type": "code",
   "execution_count": 56,
   "id": "automated-medium",
   "metadata": {},
   "outputs": [],
   "source": [
    "spark.stop()"
   ]
  },
  {
   "cell_type": "code",
   "execution_count": null,
   "id": "regional-skirt",
   "metadata": {},
   "outputs": [],
   "source": []
  }
 ],
 "metadata": {
  "kernelspec": {
   "display_name": "bigdataenv",
   "language": "python",
   "name": "bigdataenv"
  },
  "language_info": {
   "codemirror_mode": {
    "name": "ipython",
    "version": 3
   },
   "file_extension": ".py",
   "mimetype": "text/x-python",
   "name": "python",
   "nbconvert_exporter": "python",
   "pygments_lexer": "ipython3",
   "version": "3.8.10"
  }
 },
 "nbformat": 4,
 "nbformat_minor": 5
}
