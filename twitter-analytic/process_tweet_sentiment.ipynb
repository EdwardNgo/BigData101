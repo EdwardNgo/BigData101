{
 "cells": [
  {
   "cell_type": "code",
   "execution_count": 1,
   "id": "respected-schedule",
   "metadata": {},
   "outputs": [],
   "source": [
    "from pyspark.sql import SparkSession\n",
    "from pyspark.sql.types import *\n",
    "from pyspark.sql.functions import *"
   ]
  },
  {
   "cell_type": "code",
   "execution_count": 2,
   "id": "iraqi-louis",
   "metadata": {},
   "outputs": [],
   "source": [
    "import os \n",
    "# kafka = \"org.apache.spark:spark-sql-kafka-0-10_2.12:3.0.1\"\n",
    "# spark_k = \"org.apache.spark:spark-streaming-kafka-0-8_2.11:2.1.0\"\n",
    "kafka_spark = \"org.apache.spark:spark-sql-kafka-0-10_2.12:3.1.2\"\n",
    "os.environ[\"PYSPARK_SUBMIT_ARGS\"] = (\"--packages {}  pyspark-shell\".format(kafka_spark))"
   ]
  },
  {
   "cell_type": "code",
   "execution_count": 3,
   "id": "bridal-queue",
   "metadata": {},
   "outputs": [],
   "source": [
    "spark = SparkSession.builder.master(\"local\").appName(\"process-tweet-sentiment\").getOrCreate()"
   ]
  },
  {
   "cell_type": "code",
   "execution_count": 4,
   "id": "pursuant-denver",
   "metadata": {},
   "outputs": [
    {
     "data": {
      "text/html": [
       "\n",
       "            <div>\n",
       "                <p><b>SparkSession - in-memory</b></p>\n",
       "                \n",
       "        <div>\n",
       "            <p><b>SparkContext</b></p>\n",
       "\n",
       "            <p><a href=\"http://viethoang:4040\">Spark UI</a></p>\n",
       "\n",
       "            <dl>\n",
       "              <dt>Version</dt>\n",
       "                <dd><code>v3.1.1</code></dd>\n",
       "              <dt>Master</dt>\n",
       "                <dd><code>local</code></dd>\n",
       "              <dt>AppName</dt>\n",
       "                <dd><code>process-tweet-sentiment</code></dd>\n",
       "            </dl>\n",
       "        </div>\n",
       "        \n",
       "            </div>\n",
       "        "
      ],
      "text/plain": [
       "<pyspark.sql.session.SparkSession at 0x7f78cd1539a0>"
      ]
     },
     "execution_count": 4,
     "metadata": {},
     "output_type": "execute_result"
    }
   ],
   "source": [
    "spark"
   ]
  },
  {
   "cell_type": "code",
   "execution_count": 31,
   "id": "heated-latino",
   "metadata": {},
   "outputs": [],
   "source": [
    "KAFKA_BROKER = \"localhost:9092\"\n",
    "KAFKA_TOPIC_CONSUMER = \"twitter-sentiment\"\n",
    "df = spark.readStream.\\\n",
    "        format(\"kafka\").\\\n",
    "        option(\"kafka.bootstrap.servers\",KAFKA_BROKER).\\\n",
    "        option(\"subscribe\",KAFKA_TOPIC_CONSUMER).\\\n",
    "        option(\"startingOffsets\",\"earliest\").\\\n",
    "        load()"
   ]
  },
  {
   "cell_type": "code",
   "execution_count": 32,
   "id": "elementary-arabic",
   "metadata": {},
   "outputs": [
    {
     "name": "stdout",
     "output_type": "stream",
     "text": [
      "root\n",
      " |-- key: binary (nullable = true)\n",
      " |-- value: binary (nullable = true)\n",
      " |-- topic: string (nullable = true)\n",
      " |-- partition: integer (nullable = true)\n",
      " |-- offset: long (nullable = true)\n",
      " |-- timestamp: timestamp (nullable = true)\n",
      " |-- timestampType: integer (nullable = true)\n",
      "\n"
     ]
    }
   ],
   "source": [
    "df.printSchema()"
   ]
  },
  {
   "cell_type": "code",
   "execution_count": 33,
   "id": "realistic-bubble",
   "metadata": {},
   "outputs": [],
   "source": [
    "def evaluate(avg):\n",
    "    try:\n",
    "        if avg < 0:\n",
    "            return 'Negative'\n",
    "        elif avg >0:\n",
    "            return 'Positive'\n",
    "        else:\n",
    "            return 'Neutral'\n",
    "    except:\n",
    "        return 'Neutral'\n"
   ]
  },
  {
   "cell_type": "code",
   "execution_count": 34,
   "id": "verbal-warning",
   "metadata": {},
   "outputs": [],
   "source": [
    "schema = StructType([StructField(\"id\",StringType()),StructField(\"time\",StringType()),StructField(\"text\",StringType()),StructField(\"sentiment_score\",DoubleType())])"
   ]
  },
  {
   "cell_type": "code",
   "execution_count": 35,
   "id": "needed-combat",
   "metadata": {},
   "outputs": [],
   "source": [
    "#filter all hashtag in each tweet by timestamp\n",
    "processed_tweet_value = df.selectExpr(\"CAST(value as string) AS value\").\\\n",
    "                    select(from_json(\"value\",schema).alias(\"x\")).\\\n",
    "                    selectExpr(\"CAST(from_unixtime(x.time,'HH:mm:ss') as TIMESTAMP) AS time\",\n",
    "                              \"x.text as text\",\n",
    "                              \"x.sentiment_score as sentiment_score\")\n",
    "                    "
   ]
  },
  {
   "cell_type": "code",
   "execution_count": 39,
   "id": "amazing-canal",
   "metadata": {},
   "outputs": [],
   "source": [
    "eval_udf = udf(evaluate,StringType())\n",
    "processed_tweet_value = processed_tweet_value.withColumn(\"status\",eval_udf(\"sentiment_score\"))\n",
    "#de ghi vao kafka tiep thi phai co mot cot la value voi gia tri la json\n",
    "target_df = processed_tweet_value.selectExpr(\"to_json(struct(*)) as value\")"
   ]
  },
  {
   "cell_type": "code",
   "execution_count": 30,
   "id": "danish-ivory",
   "metadata": {},
   "outputs": [
    {
     "data": {
      "text/plain": [
       "<pyspark.sql.streaming.StreamingQuery at 0x7f78cd061c10>"
      ]
     },
     "execution_count": 30,
     "metadata": {},
     "output_type": "execute_result"
    }
   ],
   "source": [
    "processed_tweet_value.writeStream.\\\n",
    "                outputMode(\"update\").\\\n",
    "                format(\"console\").\\\n",
    "                option(\"truncate\",\"false\").\\\n",
    "                start()"
   ]
  },
  {
   "cell_type": "code",
   "execution_count": null,
   "id": "inclusive-spotlight",
   "metadata": {},
   "outputs": [],
   "source": [
    "nifi_query = target_df\\\n",
    "        .writeStream \\\n",
    "        .queryName(\"Notification Writer\") \\\n",
    "        .format(\"kafka\") \\\n",
    "        .option(\"kafka.bootstrap.servers\", KAFKA_BROKER) \\\n",
    "        .option(\"topic\", \"twitter-sentiment-2\") \\\n",
    "        .outputMode(\"update\") \\\n",
    "        .option(\"checkpointLocation\", \"chk-point-dir\") \\\n",
    "        .start()\n",
    "\n",
    "nifi_query.awaitTermination()\n"
   ]
  }
 ],
 "metadata": {
  "kernelspec": {
   "display_name": "bigdataenv",
   "language": "python",
   "name": "bigdataenv"
  },
  "language_info": {
   "codemirror_mode": {
    "name": "ipython",
    "version": 3
   },
   "file_extension": ".py",
   "mimetype": "text/x-python",
   "name": "python",
   "nbconvert_exporter": "python",
   "pygments_lexer": "ipython3",
   "version": "3.8.10"
  }
 },
 "nbformat": 4,
 "nbformat_minor": 5
}
